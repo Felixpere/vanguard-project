{
 "cells": [
  {
   "cell_type": "code",
   "execution_count": 1,
   "id": "1f9d3559-e146-41de-9c30-6eeba2fc6d52",
   "metadata": {},
   "outputs": [
    {
     "name": "stdout",
     "output_type": "stream",
     "text": [
      "Sample of df_demo:\n",
      "   client_id  clnt_tenure_yr  clnt_tenure_mnth  clnt_age gendr  num_accts  \\\n",
      "0     836976             6.0              73.0      60.5     U        2.0   \n",
      "1    2304905             7.0              94.0      58.0     U        2.0   \n",
      "2    1439522             5.0              64.0      32.0     U        2.0   \n",
      "3    1562045            16.0             198.0      49.0     M        2.0   \n",
      "4    5126305            12.0             145.0      33.0     F        2.0   \n",
      "\n",
      "         bal  calls_6_mnth  logons_6_mnth  \n",
      "0   45105.30           6.0            9.0  \n",
      "1  110860.30           6.0            9.0  \n",
      "2   52467.79           6.0            9.0  \n",
      "3   67454.65           3.0            6.0  \n",
      "4  103671.75           0.0            3.0   \n",
      "\n",
      "Sample of df_experiment:\n",
      "   client_id Variation\n",
      "0    9988021      Test\n",
      "1    8320017      Test\n",
      "2    4033851   Control\n",
      "3    1982004      Test\n",
      "4    9294070   Control \n",
      "\n",
      "Sample of df_web:\n",
      "   client_id            visitor_id                      visit_id process_step  \\\n",
      "0    9988021  580560515_7732621733  781255054_21935453173_531117       step_3   \n",
      "1    9988021  580560515_7732621733  781255054_21935453173_531117       step_2   \n",
      "2    9988021  580560515_7732621733  781255054_21935453173_531117       step_3   \n",
      "3    9988021  580560515_7732621733  781255054_21935453173_531117       step_2   \n",
      "4    9988021  580560515_7732621733  781255054_21935453173_531117       step_3   \n",
      "\n",
      "             date_time  \n",
      "0  2017-04-17 15:27:07  \n",
      "1  2017-04-17 15:26:51  \n",
      "2  2017-04-17 15:19:22  \n",
      "3  2017-04-17 15:19:13  \n",
      "4  2017-04-17 15:18:04  \n"
     ]
    }
   ],
   "source": [
    "import pandas as pd\n",
    "\n",
    "# Load each dataset\n",
    "df_demo = pd.read_csv('df_final_demo.txt', sep=',')\n",
    "df_experiment = pd.read_csv('df_final_experiment_clients.txt', sep=',')\n",
    "df_web_1 = pd.read_csv('df_final_web_data_pt_1.txt', sep=',')\n",
    "df_web_2 = pd.read_csv('df_final_web_data_pt_2.txt', sep=',')\n",
    "\n",
    "# Combine web data\n",
    "df_web = pd.concat([df_web_1, df_web_2], ignore_index=True)\n",
    "\n",
    "# Display sample of each dataframe\n",
    "print(\"Sample of df_demo:\")\n",
    "print(df_demo.head(), '\\n')\n",
    "\n",
    "print(\"Sample of df_experiment:\")\n",
    "print(df_experiment.head(), '\\n')\n",
    "\n",
    "print(\"Sample of df_web:\")\n",
    "print(df_web.head())"
   ]
  },
  {
   "cell_type": "code",
   "execution_count": 3,
   "id": "df96adec-ccef-455b-ab2d-08d04f8067b9",
   "metadata": {},
   "outputs": [],
   "source": [
    "# Merge web interaction data with experiment variation info\n",
    "web_exp = pd.merge(df_web, df_experiment, on='client_id', how='inner')"
   ]
  },
  {
   "cell_type": "code",
   "execution_count": 5,
   "id": "ea478261-54d0-49c4-a2b2-948aaddf7196",
   "metadata": {},
   "outputs": [],
   "source": [
    "# Filter users who reached the final step 'confirm'\n",
    "completed = web_exp[web_exp['process_step'] == 'confirm'][['client_id', 'Variation']].drop_duplicates()"
   ]
  },
  {
   "cell_type": "code",
   "execution_count": 7,
   "id": "3d5c4abe-0185-4751-b348-b50147221a93",
   "metadata": {},
   "outputs": [],
   "source": [
    "# Total unique users in each group\n",
    "total_users = web_exp[['client_id', 'Variation']].drop_duplicates()\n",
    "total_counts = total_users['Variation'].value_counts()\n",
    "\n",
    "# Total completed per group\n",
    "completion_counts = completed['Variation'].value_counts()"
   ]
  },
  {
   "cell_type": "code",
   "execution_count": 10,
   "id": "117676a6-ab04-4a65-adee-b4817474fef9",
   "metadata": {},
   "outputs": [
    {
     "name": "stdout",
     "output_type": "stream",
     "text": [
      "Z-statistic: 8.8745141890702\n",
      "p-value: 3.511966623790716e-19\n"
     ]
    }
   ],
   "source": [
    "from statsmodels.stats.proportion import proportions_ztest\n",
    "\n",
    "# Reorder so index matches group\n",
    "count = [completion_counts['Test'], completion_counts['Control']]\n",
    "nobs = [total_counts['Test'], total_counts['Control']]\n",
    "\n",
    "# Perform one-tailed z-test\n",
    "stat, pval = proportions_ztest(count, nobs, alternative='larger')\n",
    "\n",
    "print(\"Z-statistic:\", stat)\n",
    "print(\"p-value:\", pval)"
   ]
  },
  {
   "cell_type": "code",
   "execution_count": 12,
   "id": "05d03715-6326-4484-9c03-d280f000df25",
   "metadata": {},
   "outputs": [
    {
     "name": "stdout",
     "output_type": "stream",
     "text": [
      "Completion Rate (Test): 69.29323642835953\n",
      "Completion Rate (Control): 65.58728539860616\n",
      "Difference: 3.705951029753379\n",
      "❌ Improvement does not meet 5% threshold. Not cost-effective.\n"
     ]
    }
   ],
   "source": [
    "# Step 1: Calculate completion rate per group\n",
    "rate_test = (completion_counts['Test'] / total_counts['Test']) * 100\n",
    "rate_control = (completion_counts['Control'] / total_counts['Control']) * 100\n",
    "\n",
    "# Step 2: Calculate difference\n",
    "diff = rate_test - rate_control\n",
    "\n",
    "# Step 3: Compare with threshold\n",
    "threshold = 5\n",
    "\n",
    "print(\"Completion Rate (Test):\", rate_test)\n",
    "print(\"Completion Rate (Control):\", rate_control)\n",
    "print(\"Difference:\", diff)\n",
    "if diff >= threshold:\n",
    "    print(\"✅ Improvement exceeds threshold. New design is cost-effective.\")\n",
    "else:\n",
    "    print(\"❌ Improvement does not meet 5% threshold. Not cost-effective.\")"
   ]
  },
  {
   "cell_type": "code",
   "execution_count": 14,
   "id": "3a309328-73d4-458d-ac0b-7286e6132779",
   "metadata": {},
   "outputs": [],
   "source": [
    "# Merge demographics with experiment group info\n",
    "df_demo_exp = pd.merge(df_demo, df_experiment, on='client_id', how='inner')\n",
    "\n",
    "# Drop rows with missing age\n",
    "df_demo_exp = df_demo_exp.dropna(subset=['clnt_age'])"
   ]
  },
  {
   "cell_type": "code",
   "execution_count": 16,
   "id": "7d0552ad-a635-42bb-918f-67381c683a4a",
   "metadata": {},
   "outputs": [],
   "source": [
    "# Split into Test and Control groups\n",
    "age_test = df_demo_exp[df_demo_exp['Variation'] == 'Test']['clnt_age']\n",
    "age_control = df_demo_exp[df_demo_exp['Variation'] == 'Control']['clnt_age']"
   ]
  },
  {
   "cell_type": "code",
   "execution_count": 18,
   "id": "47fc122c-2bfb-4e80-ad3f-2ea0561bdaeb",
   "metadata": {},
   "outputs": [
    {
     "name": "stdout",
     "output_type": "stream",
     "text": [
      "T-statistic: -2.416068061200627\n",
      "P-value: 0.015692719461388675\n"
     ]
    }
   ],
   "source": [
    "from scipy.stats import ttest_ind\n",
    "\n",
    "# Perform independent two-sample t-test\n",
    "stat, pval = ttest_ind(age_test, age_control, equal_var=False)\n",
    "\n",
    "print(\"T-statistic:\", stat)\n",
    "print(\"P-value:\", pval)"
   ]
  },
  {
   "cell_type": "code",
   "execution_count": 20,
   "id": "19b41a74-0c4d-4430-afb0-3d8e33b6ca07",
   "metadata": {},
   "outputs": [
    {
     "name": "stdout",
     "output_type": "stream",
     "text": [
      "T-statistic: -1.7115258395121253\n",
      "P-value: 0.08699034968593346\n"
     ]
    }
   ],
   "source": [
    "# Merge demographic data with experiment group\n",
    "df_demo_exp = pd.merge(df_demo, df_experiment, on='client_id', how='inner')\n",
    "\n",
    "# Drop rows with missing tenure\n",
    "df_demo_exp = df_demo_exp.dropna(subset=['clnt_tenure_yr'])\n",
    "\n",
    "# Split into Test and Control groups\n",
    "tenure_test = df_demo_exp[df_demo_exp['Variation'] == 'Test']['clnt_tenure_yr']\n",
    "tenure_control = df_demo_exp[df_demo_exp['Variation'] == 'Control']['clnt_tenure_yr']\n",
    "\n",
    "# Perform independent two-sample t-test\n",
    "from scipy.stats import ttest_ind\n",
    "\n",
    "stat, pval = ttest_ind(tenure_test, tenure_control, equal_var=False)\n",
    "\n",
    "# Show results\n",
    "print(\"T-statistic:\", stat)\n",
    "print(\"P-value:\", pval)"
   ]
  },
  {
   "cell_type": "code",
   "execution_count": 22,
   "id": "430e3906-a568-4a02-9853-c4f644f06895",
   "metadata": {},
   "outputs": [
    {
     "name": "stdout",
     "output_type": "stream",
     "text": [
      "Z-statistic: -1.1615835747534435\n",
      "P-value: 0.24540465716476256\n"
     ]
    }
   ],
   "source": [
    "# Step 1: Merge demographic and experiment data\n",
    "df_demo_exp = pd.merge(df_demo, df_experiment, on='client_id', how='inner')\n",
    "\n",
    "# Step 2: Filter only rows with known gender (exclude 'U')\n",
    "df_demo_exp = df_demo_exp[df_demo_exp['gendr'].isin(['M', 'F'])]\n",
    "\n",
    "# Step 3: Create binary variable for gender (e.g., M = 1, F = 0)\n",
    "df_demo_exp['is_male'] = (df_demo_exp['gendr'] == 'M').astype(int)\n",
    "\n",
    "# Step 4: Calculate counts for each group\n",
    "male_test = df_demo_exp[df_demo_exp['Variation'] == 'Test']['is_male'].sum()\n",
    "male_control = df_demo_exp[df_demo_exp['Variation'] == 'Control']['is_male'].sum()\n",
    "\n",
    "n_test = df_demo_exp[df_demo_exp['Variation'] == 'Test']['is_male'].count()\n",
    "n_control = df_demo_exp[df_demo_exp['Variation'] == 'Control']['is_male'].count()\n",
    "\n",
    "# Step 5: Proportion z-test\n",
    "from statsmodels.stats.proportion import proportions_ztest\n",
    "\n",
    "count = [male_test, male_control]\n",
    "nobs = [n_test, n_control]\n",
    "\n",
    "stat, pval = proportions_ztest(count, nobs)\n",
    "print(\"Z-statistic:\", stat)\n",
    "print(\"P-value:\", pval)"
   ]
  },
  {
   "cell_type": "code",
   "execution_count": null,
   "id": "fcc7c0d7-1666-4ee9-8f2d-c43f2dc1e6ba",
   "metadata": {},
   "outputs": [],
   "source": []
  }
 ],
 "metadata": {
  "kernelspec": {
   "display_name": "Python [conda env:base] *",
   "language": "python",
   "name": "conda-base-py"
  },
  "language_info": {
   "codemirror_mode": {
    "name": "ipython",
    "version": 3
   },
   "file_extension": ".py",
   "mimetype": "text/x-python",
   "name": "python",
   "nbconvert_exporter": "python",
   "pygments_lexer": "ipython3",
   "version": "3.12.7"
  }
 },
 "nbformat": 4,
 "nbformat_minor": 5
}
